{
  "nbformat": 4,
  "nbformat_minor": 0,
  "metadata": {
    "colab": {
      "provenance": [],
      "authorship_tag": "ABX9TyPBkO4ay1FLy49Gt4nFcgbR",
      "include_colab_link": true
    },
    "kernelspec": {
      "name": "python3",
      "display_name": "Python 3"
    },
    "language_info": {
      "name": "python"
    }
  },
  "cells": [
    {
      "cell_type": "markdown",
      "metadata": {
        "id": "view-in-github",
        "colab_type": "text"
      },
      "source": [
        "<a href=\"https://colab.research.google.com/github/CRASH3000/Neto-VuzLab2/blob/main/Neto_VuzLab2.ipynb\" target=\"_parent\"><img src=\"https://colab.research.google.com/assets/colab-badge.svg\" alt=\"Open In Colab\"/></a>"
      ]
    },
    {
      "cell_type": "code",
      "execution_count": null,
      "metadata": {
        "colab": {
          "base_uri": "https://localhost:8080/"
        },
        "id": "0PZ4990sBPVm",
        "outputId": "b5229b6a-76f6-4415-8727-a1c1cbb1c312"
      },
      "outputs": [
        {
          "output_type": "stream",
          "name": "stdout",
          "text": [
            "Введите цены для магазина Магазин1:\n",
            "Цена для яблоки: 10\n",
            "Цена для бананы: 12\n",
            "Цена для хлеб: 20\n",
            "Введите цены для магазина Магазин2:\n",
            "Цена для яблоки: 35\n",
            "Цена для бананы: 10\n",
            "Цена для хлеб: 21\n",
            "Введите цены для магазина Магазин3:\n",
            "Цена для яблоки: 20\n",
            "Цена для бананы: 29\n",
            "Цена для хлеб: 11\n",
            "Общая стоимость в Магазин1: 42.0 руб.\n",
            "Общая стоимость в Магазин2: 66.0 руб.\n",
            "Общая стоимость в Магазин3: 60.0 руб.\n",
            "Самые дешевые покупки в Магазин1!\n"
          ]
        }
      ],
      "source": [
        "def input_prices_for_shop(shop_name, items):\n",
        "    print(f\"Введите цены для магазина {shop_name}:\")\n",
        "    prices = {}\n",
        "    for item in items:\n",
        "        # запросим цену каждого товара для текущего магазина\n",
        "        price = float(input(f\"Цена для {item}: \"))\n",
        "        prices[item] = price\n",
        "    return prices\n",
        "\n",
        "def calculate_total_cost(prices):\n",
        "    # функция просто суммирует все цены из переданного словаря\n",
        "    return sum(prices.values())\n",
        "\n",
        "def main():\n",
        "    items = [\"яблоки\", \"бананы\", \"хлеб\"]\n",
        "    shops = [\"Магазин1\", \"Магазин2\", \"Магазин3\"]\n",
        "\n",
        "    # словарь для хранения данных по каждому магазину\n",
        "    shop_data = {}\n",
        "\n",
        "    # запрашиваем цены для каждого магазина\n",
        "    for shop in shops:\n",
        "        prices = input_prices_for_shop(shop, items)\n",
        "        shop_data[shop] = prices\n",
        "\n",
        "    # вычисляем и выводим общую стоимость для каждого магазина\n",
        "    costs = {}\n",
        "    for shop, prices in shop_data.items():\n",
        "        total_cost = calculate_total_cost(prices)\n",
        "        costs[shop] = total_cost\n",
        "        print(f\"Общая стоимость в {shop}: {total_cost} руб.\")\n",
        "\n",
        "    # находим магазин с минимальной стоимостью\n",
        "    cheapest_shop = min(costs, key=costs.get)\n",
        "    print(f\"Самые дешевые покупки в {cheapest_shop}!\")\n",
        "\n",
        "if __name__ == \"__main__\":\n",
        "    main()\n"
      ]
    }
  ]
}